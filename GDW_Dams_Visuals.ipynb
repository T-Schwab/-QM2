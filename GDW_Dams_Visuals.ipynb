{
  "nbformat": 4,
  "nbformat_minor": 0,
  "metadata": {
    "colab": {
      "provenance": [],
      "authorship_tag": "ABX9TyOoHnuAHpDIMQ/sp4cc+Eqp",
      "include_colab_link": true
    },
    "kernelspec": {
      "name": "python3",
      "display_name": "Python 3"
    },
    "language_info": {
      "name": "python"
    }
  },
  "cells": [
    {
      "cell_type": "markdown",
      "metadata": {
        "id": "view-in-github",
        "colab_type": "text"
      },
      "source": [
        "<a href=\"https://colab.research.google.com/github/T-Schwab/QM2/blob/main/GDW_Dams_Visuals.ipynb\" target=\"_parent\"><img src=\"https://colab.research.google.com/assets/colab-badge.svg\" alt=\"Open In Colab\"/></a>"
      ]
    },
    {
      "cell_type": "code",
      "execution_count": 1,
      "metadata": {
        "id": "K3DHaDbvHjpu"
      },
      "outputs": [],
      "source": [
        "import pandas as pd\n",
        "import geopandas as gpd\n",
        "import matplotlib.pyplot as plt\n",
        "from shapely import wkt"
      ]
    },
    {
      "cell_type": "code",
      "source": [
        "df = pd.read_csv(\"GDW_barriers_v1_0_FORME.csv\")\n",
        "\n",
        "# Print the first few rows of the DataFrame\n",
        "print(df.head())"
      ],
      "metadata": {
        "colab": {
          "base_uri": "https://localhost:8080/"
        },
        "id": "jgfLxGioJ_1g",
        "outputId": "c43f0046-9775-4d63-d173-441bd63fbd51"
      },
      "execution_count": 2,
      "outputs": [
        {
          "output_type": "stream",
          "name": "stdout",
          "text": [
            "   GDW_ID         RES_NAME             DAM_NAME        ALT_NAME  \\\n",
            "0       1    Lake Winnipeg               Jenpeg      Split Lake   \n",
            "1       2          Ontario             Iroquois             NaN   \n",
            "2       3           Baikal              Irkutsk             NaN   \n",
            "3       4    Lake Victoria           Owen Falls             NaN   \n",
            "4       5  Southern Indian  Missi Falls Control  Notigi Control   \n",
            "\n",
            "           DAM_TYPE LAKE_CTRL         RIVER ALT_RIVER MAIN_BASIN  \\\n",
            "0  Lake Control Dam       Yes        Nelson       NaN        NaN   \n",
            "1  Lake Control Dam       Yes  St. Lawrence       NaN        NaN   \n",
            "2  Lake Control Dam       Yes        Angara       NaN        NaN   \n",
            "3  Lake Control Dam       Yes    White Nile       NaN       Nile   \n",
            "4  Lake Control Dam       Yes     Churchill       Rat        NaN   \n",
            "\n",
            "       SUB_BASIN  ...    LAT_RIV LONG_DAM LAT_DAM ORIG_SRC POLY_SRC GRAND_ID  \\\n",
            "0            NaN  ...  53.696359      NaN     NaN    GRanD   CanVec      709   \n",
            "1            NaN  ...  44.480557      NaN     NaN    GRanD     SWBD     1485   \n",
            "2            NaN  ...  52.234393      NaN     NaN    GRanD     SWBD     5058   \n",
            "3  Victoria Nile  ...   0.430999      NaN     NaN    GRanD     SWBD     4492   \n",
            "4            NaN  ...  57.361625      NaN     NaN    GRanD    Other      702   \n",
            "\n",
            "   HYRIV_ID  INSTREAM HYLAK_ID     HYBAS_L12  \n",
            "0  70125969  Instream        4  7.120921e+09  \n",
            "1  70444883  Instream        7  7.121021e+09  \n",
            "2  30588837  Instream       11  3.120639e+09  \n",
            "3  10980811  Instream       16  1.122079e+09  \n",
            "4  70037207  Instream       37  7.120896e+09  \n",
            "\n",
            "[5 rows x 71 columns]\n"
          ]
        },
        {
          "output_type": "stream",
          "name": "stderr",
          "text": [
            "<ipython-input-2-7aa62ca82576>:1: DtypeWarning: Columns (1,3,5,7,8,9,11,15,21,44,45,46,47,48,49,50,51,52,53,54,55,56,57) have mixed types. Specify dtype option on import or set low_memory=False.\n",
            "  df = pd.read_csv(\"GDW_barriers_v1_0_FORME.csv\")\n"
          ]
        }
      ]
    },
    {
      "cell_type": "code",
      "source": [
        "# List of African countries\n",
        "african_countries = [\n",
        "    \"Algeria\", \"Angola\", \"Benin\", \"Botswana\", \"Burkina Faso\", \"Burundi\",\n",
        "    \"Cameroon\", \"Central African Republic\", \"Republic of the Congo\",\n",
        "    \"Democratic Republic of the Congo\", \"Egypt\",\n",
        "    \"Eritrea\", \"Ethiopia\", \"Gabon\", \"Ghana\", \"Guinea\", \"Kenya\", \"Lesotho\", \"Liberia\", \"Libya\", \"Madagascar\", \"Malawi\", \"Mali\",\n",
        "    \"Mauritania\", \"Morocco\", \"Mozambique\", \"Namibia\", \"Niger\", \"Nigeria\", \"Rwanda\",\n",
        "   \"Senegal\", \"Sierra Leone\", \"Somalia\", \"South Africa\",\n",
        "   \"Sudan\", \"Togo\", \"Tunisia\", \"Uganda\", \"Zambia\", \"Zimbabwe\", \"Swaziland\"\n",
        "]\n",
        "\n",
        "# Filter the DataFrame to only include African countries\n",
        "df_africa = df[df['COUNTRY'].isin(african_countries)]\n",
        "\n",
        "# Display the filtered DataFrame\n",
        "print(df_africa)\n"
      ],
      "metadata": {
        "colab": {
          "base_uri": "https://localhost:8080/"
        },
        "id": "6CsOSG_YKJCS",
        "outputId": "e2f0ebb2-6f86-4796-d3d9-c81d3aaeaded"
      },
      "execution_count": 3,
      "outputs": [
        {
          "output_type": "stream",
          "name": "stdout",
          "text": [
            "       GDW_ID       RES_NAME            DAM_NAME             ALT_NAME  \\\n",
            "3           4  Lake Victoria          Owen Falls                  NaN   \n",
            "58         59    Lake Nasser      High Aswan Dam                  NaN   \n",
            "59         60         Kainji              Kainji                  NaN   \n",
            "60         61          Volta   Akosombo Main Dam  Akosombo Saddle Dam   \n",
            "61         62   Cahora Bassa        Cahora Bassa         Cabora Bassa   \n",
            "...       ...            ...                 ...                  ...   \n",
            "41050   41051            NaN        Applethwaite                  NaN   \n",
            "41051   41052            NaN                 NaN                  NaN   \n",
            "41052   41053            NaN  Middle Kruisvallei                  NaN   \n",
            "41053   41054            NaN   Lower Kruisvallei                  NaN   \n",
            "41054   41055            NaN                 NaN                  NaN   \n",
            "\n",
            "               DAM_TYPE LAKE_CTRL       RIVER ALT_RIVER            MAIN_BASIN  \\\n",
            "3      Lake Control Dam       Yes  White Nile       NaN                  Nile   \n",
            "58                  Dam       NaN        Nile       NaN                  Nile   \n",
            "59                  Dam       NaN       Niger       NaN                 Niger   \n",
            "60                  Dam       NaN       Volta       NaN                 Volta   \n",
            "61                  Dam       NaN     Zambezi       NaN               Zambezi   \n",
            "...                 ...       ...         ...       ...                   ...   \n",
            "41050               Dam       NaN     Palmiet       NaN  South Atlantic Coast   \n",
            "41051               Dam       NaN         NaN       NaN                   NaN   \n",
            "41052               Dam       NaN         NaN       NaN                   NaN   \n",
            "41053               Dam       NaN         NaN       NaN                   NaN   \n",
            "41054               Dam       NaN         NaN       NaN                   NaN   \n",
            "\n",
            "           SUB_BASIN  ...    LAT_RIV   LONG_DAM    LAT_DAM ORIG_SRC  \\\n",
            "3      Victoria Nile  ...   0.430999        NaN        NaN    GRanD   \n",
            "58               NaN  ...  23.967280        NaN        NaN    GRanD   \n",
            "59               NaN  ...   9.866081        NaN        NaN    GRanD   \n",
            "60               NaN  ...   6.302627        NaN        NaN    GRanD   \n",
            "61               NaN  ... -15.586301        NaN        NaN    GRanD   \n",
            "...              ...  ...        ...        ...        ...      ...   \n",
            "41050     Groot Berg  ... -34.197289        NaN        NaN    GOODD   \n",
            "41051            NaN  ... -33.024909  18.789044 -33.024796     GROD   \n",
            "41052            NaN  ... -33.919445        NaN        NaN    FHReD   \n",
            "41053            NaN  ... -33.986236        NaN        NaN    FHReD   \n",
            "41054            NaN  ... -33.434810        NaN        NaN  JRC-GSW   \n",
            "\n",
            "         POLY_SRC GRAND_ID  HYRIV_ID  INSTREAM HYLAK_ID     HYBAS_L12  \n",
            "3            SWBD     4492  10980811  Instream       16  1.122079e+09  \n",
            "58           SWBD     4478  10210399  Instream      152  1.120324e+09  \n",
            "59           SWBD     3640  10637985  Instream      155  1.120824e+09  \n",
            "60           SWBD     3667  10798998  Instream      156  1.122020e+09  \n",
            "61           SWBD     4505  11300117  Instream      171  1.121430e+09  \n",
            "...           ...      ...       ...       ...      ...           ...  \n",
            "41050        SWBD        0  11527089  Instream  1425984  1.121660e+09  \n",
            "41051        SWBD        0  11522478  Instream  1425133  1.122298e+09  \n",
            "41052  No Polygon        0  11526590  Instream        0  1.121660e+09  \n",
            "41053  No Polygon        0  11526590  Instream        0  1.121660e+09  \n",
            "41054     JRC-GSW        0  11524736  Instream  1434049  1.122299e+09  \n",
            "\n",
            "[3653 rows x 71 columns]\n"
          ]
        }
      ]
    },
    {
      "cell_type": "code",
      "source": [
        "df_africa['YEAR_DAM'] = pd.to_numeric(df_africa['YEAR_DAM'], errors='coerce')\n",
        "df_africa = df_africa.sort_values(by='YEAR_DAM')\n",
        "print(df_africa)"
      ],
      "metadata": {
        "colab": {
          "base_uri": "https://localhost:8080/"
        },
        "id": "sL7BKm1GQ8Ih",
        "outputId": "02659c27-5364-4b1a-d612-db362563ff4b"
      },
      "execution_count": 4,
      "outputs": [
        {
          "output_type": "stream",
          "name": "stdout",
          "text": [
            "       GDW_ID RES_NAME                         DAM_NAME  \\\n",
            "24124   24125      NaN                              NaN   \n",
            "24654   24655      NaN                              NaN   \n",
            "23629   23630      NaN                              NaN   \n",
            "23628   23629      NaN                              NaN   \n",
            "24656   24657      NaN                              NaN   \n",
            "...       ...      ...                              ...   \n",
            "7409     7410      NaN                  Genale-Dawa III   \n",
            "40397   40398      NaN  Grand Ethiopian Renaissance Dam   \n",
            "7418     7419      NaN                            Lauca   \n",
            "7377     7378      NaN                       Draa Ediss   \n",
            "7412     7413      NaN                         Souapiti   \n",
            "\n",
            "                                        ALT_NAME DAM_TYPE LAKE_CTRL  \\\n",
            "24124                                        NaN      Dam       NaN   \n",
            "24654                                        NaN      Dam       NaN   \n",
            "23629                                        NaN      Dam       NaN   \n",
            "23628                                        NaN      Dam       NaN   \n",
            "24656                                        NaN      Dam       NaN   \n",
            "...                                          ...      ...       ...   \n",
            "7409                                         NaN      Dam       NaN   \n",
            "40397  GERD, TalHiGe, Millennium Dam, Hidase Dam      Dam       NaN   \n",
            "7418           Lauca Hydroelectric Power Station      Dam       NaN   \n",
            "7377                                  Dhraa Diss      Dam       NaN   \n",
            "7412                                         NaN      Dam       NaN   \n",
            "\n",
            "              RIVER ALT_RIVER MAIN_BASIN SUB_BASIN  ...    LAT_RIV   LONG_DAM  \\\n",
            "24124           NaN       NaN        NaN       NaN  ... -21.366147        NaN   \n",
            "24654           NaN       NaN        NaN       NaN  ... -30.802425        NaN   \n",
            "23629           NaN       NaN        NaN       NaN  ... -17.115493        NaN   \n",
            "23628           NaN       NaN        NaN       NaN  ... -17.115108        NaN   \n",
            "24656           NaN       NaN        NaN       NaN  ... -30.868784        NaN   \n",
            "...             ...       ...        ...       ...  ...        ...        ...   \n",
            "7409   Ganale Doria       NaN       Dawa       NaN  ...   5.612096        NaN   \n",
            "40397     Blue Nile       NaN       Nile       NaN  ...  11.214281  35.092384   \n",
            "7418         Cuanza       NaN     Cuanza       NaN  ...  -9.743750        NaN   \n",
            "7377            NaN       NaN        NaN       NaN  ...  36.243750        NaN   \n",
            "7412       Konkoure       NaN   Konkoure       NaN  ...  10.422917        NaN   \n",
            "\n",
            "         LAT_DAM ORIG_SRC    POLY_SRC GRAND_ID  HYRIV_ID   INSTREAM HYLAK_ID  \\\n",
            "24124        NaN    GOODD        SWBD        0  11412593   Instream  1417032   \n",
            "24654        NaN    GOODD        SWBD        0  11509811   Instream  1423279   \n",
            "23629        NaN    GOODD        SWBD        0  11335727   Instream  1414486   \n",
            "23628        NaN    GOODD     JRC-GSW        0  11335541  Offstream  1414485   \n",
            "24656        NaN    GOODD        SWBD        0  11510425   Instream  1423314   \n",
            "...          ...      ...         ...      ...       ...        ...      ...   \n",
            "7409         NaN    GRanD      McGill     7362  10830891   Instream  1428194   \n",
            "40397  11.214281     GROD  No Polygon        0  10583522   Instream        0   \n",
            "7418         NaN    GRanD      McGill     7353  11196492   Instream  1428203   \n",
            "7377         NaN    GRanD      McGill     7385  10003378   Instream  1428162   \n",
            "7412         NaN    GRanD      McGill     7361  10613346   Instream  1428197   \n",
            "\n",
            "          HYBAS_L12  \n",
            "24124  1.122249e+09  \n",
            "24654  1.121642e+09  \n",
            "23629  1.122217e+09  \n",
            "23628  1.122217e+09  \n",
            "24656  1.121643e+09  \n",
            "...             ...  \n",
            "7409   1.120998e+09  \n",
            "40397  1.120766e+09  \n",
            "7418   1.121330e+09  \n",
            "7377   1.120086e+09  \n",
            "7412   1.120797e+09  \n",
            "\n",
            "[3653 rows x 71 columns]\n"
          ]
        },
        {
          "output_type": "stream",
          "name": "stderr",
          "text": [
            "<ipython-input-4-3a3b76757a51>:1: SettingWithCopyWarning: \n",
            "A value is trying to be set on a copy of a slice from a DataFrame.\n",
            "Try using .loc[row_indexer,col_indexer] = value instead\n",
            "\n",
            "See the caveats in the documentation: https://pandas.pydata.org/pandas-docs/stable/user_guide/indexing.html#returning-a-view-versus-a-copy\n",
            "  df_africa['YEAR_DAM'] = pd.to_numeric(df_africa['YEAR_DAM'], errors='coerce')\n"
          ]
        }
      ]
    },
    {
      "cell_type": "code",
      "source": [
        "df_africa = df_africa[df_africa['YEAR_DAM'] >= 1900]\n",
        "\n",
        "yearly = df_africa.groupby('YEAR_DAM').size().reset_index(name='count')\n",
        "print(yearly)\n",
        "\n",
        "plt.figure(figsize=(10, 6))\n",
        "plt.bar(yearly['YEAR_DAM'], yearly['count'], color='skyblue', edgecolor='black')\n",
        "plt.title('Number of Dams Constructed Per Year', fontsize=14)\n",
        "plt.xlabel('Year', fontsize=12)\n",
        "plt.ylabel('Number of Dams', fontsize=12)\n",
        "plt.grid(axis='y', linestyle='--', alpha=0.7)\n",
        "plt.show()"
      ],
      "metadata": {
        "colab": {
          "base_uri": "https://localhost:8080/",
          "height": 819
        },
        "id": "Qb_skF64RTTA",
        "outputId": "570f5cff-ae3c-4419-8ed1-617226438545"
      },
      "execution_count": 5,
      "outputs": [
        {
          "output_type": "stream",
          "name": "stdout",
          "text": [
            "     YEAR_DAM  count\n",
            "0        1901      1\n",
            "1        1902      1\n",
            "2        1905      1\n",
            "3        1907      1\n",
            "4        1908      1\n",
            "..        ...    ...\n",
            "98       2016     12\n",
            "99       2017      6\n",
            "100      2018      3\n",
            "101      2020      3\n",
            "102      2021      2\n",
            "\n",
            "[103 rows x 2 columns]\n"
          ]
        },
        {
          "output_type": "display_data",
          "data": {
            "text/plain": [
              "<Figure size 1000x600 with 1 Axes>"
            ],
            "image/png": "[encoded data removed]"
          },
          "metadata": {}
        }
      ]
    },
    {
      "cell_type": "code",
      "source": [
        "gdf = gpd.read_file(\"GDW_barriers_v1_0.shp\")\n",
        "\n",
        "# Print the first few rows of the GeoDataFrame\n",
        "print(gdf.head())"
      ],
      "metadata": {
        "colab": {
          "base_uri": "https://localhost:8080/"
        },
        "id": "egOR5QuCNIMs",
        "outputId": "43158ead-0be1-485b-ddb8-57fc28702e7b"
      },
      "execution_count": 6,
      "outputs": [
        {
          "output_type": "stream",
          "name": "stdout",
          "text": [
            "   GDW_ID         RES_NAME             DAM_NAME        ALT_NAME  \\\n",
            "0       1    Lake Winnipeg               Jenpeg      Split Lake   \n",
            "1       2          Ontario             Iroquois            None   \n",
            "2       3           Baikal              Irkutsk            None   \n",
            "3       4    Lake Victoria           Owen Falls            None   \n",
            "4       5  Southern Indian  Missi Falls Control  Notigi Control   \n",
            "\n",
            "           DAM_TYPE LAKE_CTRL         RIVER ALT_RIVER MAIN_BASIN  \\\n",
            "0  Lake Control Dam       Yes        Nelson      None       None   \n",
            "1  Lake Control Dam       Yes  St. Lawrence      None       None   \n",
            "2  Lake Control Dam       Yes        Angara      None       None   \n",
            "3  Lake Control Dam       Yes    White Nile      None       Nile   \n",
            "4  Lake Control Dam       Yes     Churchill       Rat       None   \n",
            "\n",
            "       SUB_BASIN  ... LONG_DAM LAT_DAM ORIG_SRC POLY_SRC GRAND_ID  HYRIV_ID  \\\n",
            "0           None  ...      0.0     0.0    GRanD   CanVec      709  70125969   \n",
            "1           None  ...      0.0     0.0    GRanD     SWBD     1485  70444883   \n",
            "2           None  ...      0.0     0.0    GRanD     SWBD     5058  30588837   \n",
            "3  Victoria Nile  ...      0.0     0.0    GRanD     SWBD     4492  10980811   \n",
            "4           None  ...      0.0     0.0    GRanD    Other      702  70037207   \n",
            "\n",
            "   INSTREAM  HYLAK_ID   HYBAS_L12                    geometry  \n",
            "0  Instream         4  7120921060  POINT (-97.86354 53.69636)  \n",
            "1  Instream         7  7121021260  POINT (-75.79425 44.48056)  \n",
            "2  Instream        11  3120638840  POINT (104.32188 52.23439)  \n",
            "3  Instream        16  1122078520      POINT (33.19379 0.431)  \n",
            "4  Instream        37  7120896070  POINT (-98.13295 57.36163)  \n",
            "\n",
            "[5 rows x 72 columns]\n"
          ]
        }
      ]
    },
    {
      "cell_type": "code",
      "source": [
        "import geopandas as gpd\n",
        "from shapely.geometry import Point\n",
        "\n",
        "# Step 1: Create a geometry column using LONG_RIV and LAT_RIV\n",
        "df_africa['geometry'] = df_africa.apply(lambda row: Point(row['LONG_RIV'], row['LAT_RIV']), axis=1)\n",
        "\n",
        "# Step 2: Convert the DataFrame to a GeoDataFrame\n",
        "gdf_coords = gpd.GeoDataFrame(df_africa, geometry='geometry')\n",
        "\n",
        "# Step 3: Set a coordinate reference system (CRS) for the GeoDataFrame\n",
        "# For latitude and longitude, use EPSG:4326 (WGS 84)\n",
        "gdf_coords.set_crs(epsg=4326, inplace=True)\n",
        "\n",
        "# Step 4: Verify the result\n",
        "print(gdf_coords.head())\n",
        "\n"
      ],
      "metadata": {
        "colab": {
          "base_uri": "https://localhost:8080/"
        },
        "id": "j3l-TBfbK68Q",
        "outputId": "f631eccc-460d-4661-e3e2-1d98b3820b49"
      },
      "execution_count": 9,
      "outputs": [
        {
          "output_type": "stream",
          "name": "stdout",
          "text": [
            "      GDW_ID RES_NAME        DAM_NAME ALT_NAME DAM_TYPE LAKE_CTRL  \\\n",
            "6655    6656      NaN         Matopos   Matobo      Dam       NaN   \n",
            "7277    7278      NaN  Assiut Barrage      NaN      Dam       NaN   \n",
            "6727    6728      NaN        Gerrands      NaN      Dam       NaN   \n",
            "6701    6702      NaN    Premier Mine      NaN      Dam       NaN   \n",
            "5427    5428      NaN         Bonkolo      NaN      Dam       NaN   \n",
            "\n",
            "              RIVER ALT_RIVER          MAIN_BASIN  SUB_BASIN  ... LONG_DAM  \\\n",
            "6655         Maleme       NaN             Limpopo     Shashe  ...      NaN   \n",
            "7277           Nile       NaN                Nile        NaN  ...      NaN   \n",
            "6727  Gerrandspruit       NaN              Orange       Vaal  ...      NaN   \n",
            "6701          Wilge       NaN             Limpopo  Elefantes  ...      NaN   \n",
            "5427        Bonkolo       NaN  Indian Ocean Coast  Groot Kei  ...      NaN   \n",
            "\n",
            "     LAT_DAM ORIG_SRC     POLY_SRC GRAND_ID  HYRIV_ID  INSTREAM  HYLAK_ID  \\\n",
            "6655     NaN    GRanD         SWBD     4094  11397293  Instream   1416298   \n",
            "7277     NaN    GRanD  JRC-GSW-mod     6851  10133735  Instream   1428138   \n",
            "6727     NaN    GRanD         SWBD     4209  11491150  Instream   1421012   \n",
            "6701     NaN    GRanD         SWBD     4163  11468581  Instream   1418792   \n",
            "5427     NaN    GRanD         SWBD     4274  11516586  Instream    184306   \n",
            "\n",
            "         HYBAS_L12                    geometry  \n",
            "6655  1.122242e+09  POINT (28.51586 -20.37238)  \n",
            "7277  1.120235e+09   POINT (31.18653 27.20467)  \n",
            "6727  1.122285e+09   POINT (28.2883 -28.27861)  \n",
            "6701  1.121597e+09  POINT (28.86166 -25.80301)  \n",
            "5427  1.122296e+09  POINT (26.91597 -31.87593)  \n",
            "\n",
            "[5 rows x 72 columns]\n"
          ]
        }
      ]
    },
    {
      "cell_type": "code",
      "source": [
        "%%capture\n",
        "!pip install Basemap\n",
        "!pip install ipyleaflet\n",
        "\n",
        "import geopandas as gpd\n",
        "import pandas as pd\n",
        "import matplotlib.pyplot as plt\n",
        "from mpl_toolkits.basemap import Basemap\n",
        "from shapely.geometry import Point\n",
        "\n",
        "# Step 1: Load the dam data and filter for Africa\n",
        "# Filter for Africa and create geometry for dam locations\n",
        "# Assuming 'LAT_RIV' and 'LONG_RIV' represent latitude and longitude\n",
        "df_africa = df.loc[df['COUNTRY'].isin(african_countries)].copy()\n",
        "df_africa['geometry'] = df_africa.apply(lambda row: Point(row['LONG_RIV'], row['LAT_RIV']), axis=1)\n",
        "gdf_coords = gpd.GeoDataFrame(df_africa, geometry='geometry')\n",
        "\n",
        "# Step 2: Load the catchment shapefile\n",
        "gdf_catchments = gpd.read_file(\"GDW_barriers_v1_0.shp\")\n",
        "\n",
        "# Filter to include only catchments in Africa\n",
        "africa_boundary = gdf_catchments[gdf_catchments['COUNTRY'].isin(african_countries)]\n",
        "\n",
        "# Clip catchment areas to Africa's boundaries\n",
        "gdf_catchments_africa = gpd.clip(gdf_catchments, africa_boundary)\n",
        "\n",
        "# Step 3: Set up the Basemap\n",
        "fig, ax = plt.subplots(figsize=(12, 12), dpi=300)\n",
        "m = Basemap(\n",
        "    projection='merc',\n",
        "    llcrnrlon=-25, urcrnrlon=60,  # Longitude range\n",
        "    llcrnrlat=-40, urcrnrlat=40,  # Latitude range\n",
        "    resolution='i', ax=ax\n",
        ")\n",
        "\n",
        "# Draw map features\n",
        "m.drawcoastlines(color='black', linewidth=0.5)\n",
        "m.drawcountries(color='black', linewidth=0.5)\n",
        "\n",
        "# Step 4: Filter only Polygon and MultiPolygon geometries\n",
        "gdf_catchments_africa = gdf_catchments_africa[gdf_catchments_africa.geometry.type.isin(['Polygon', 'MultiPolygon'])]\n",
        "\n",
        "# Step 5: Plot the clipped catchment areas\n",
        "for _, row in gdf_catchments_africa.iterrows():\n",
        "    if row.geometry.type == 'Polygon':\n",
        "        # Single Polygon\n",
        "        x, y = m(*zip(*list(row.geometry.exterior.coords)))  # Transform exterior coordinates\n",
        "        ax.fill(x, y, facecolor='blue', alpha=0.4, edgecolor='blue', label=\"Catchment Areas\")\n",
        "    elif row.geometry.type == 'MultiPolygon':\n",
        "        # MultiPolygon: Iterate through each part\n",
        "        for polygon in row.geometry.geoms:\n",
        "            x, y = m(*zip(*list(polygon.exterior.coords)))  # Transform exterior coordinates\n",
        "            ax.fill(x, y, facecolor='blue', alpha=0.4, edgecolor='blue', label=\"Catchment Areas\")\n",
        "\n",
        "# Step 5: Plot the dam locations\n",
        "dam_lons = gdf_coords['LONG_RIV'].values\n",
        "dam_lats = gdf_coords['LAT_RIV'].values\n",
        "dam_x, dam_y = m(dam_lons, dam_lats)  # Transform latitude/longitude to map coordinates\n",
        "m.scatter(dam_x, dam_y, color='red', edgecolor='black', marker='o', s=10, label=\"Dams\")\n",
        "\n",
        "# Step 6: Add title and legend\n",
        "plt.title(\"Dams Constructed in Africa (GDW Database)\", fontsize=16)\n",
        "plt.legend(loc=\"upper right\", fontsize=10)\n",
        "\n",
        "# Save the figure\n",
        "output_path = \"africa_GDWdam_GDWcatchments.png\"\n",
        "plt.savefig(output_path, dpi=300, bbox_inches='tight')\n",
        "\n",
        "# Show the plot\n",
        "plt.show()"
      ],
      "metadata": {
        "id": "5SaAX-M0dtfw"
      },
      "execution_count": 18,
      "outputs": []
    }
  ]
}