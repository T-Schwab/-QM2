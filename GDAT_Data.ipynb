{
  "nbformat": 4,
  "nbformat_minor": 0,
  "metadata": {
    "colab": {
      "provenance": [],
      "authorship_tag": "ABX9TyOgbyu0TfCkb9frljkcskMz",
      "include_colab_link": true
    },
    "kernelspec": {
      "name": "python3",
      "display_name": "Python 3"
    },
    "language_info": {
      "name": "python"
    }
  },
  "cells": [
    {
      "cell_type": "markdown",
      "metadata": {
        "id": "view-in-github",
        "colab_type": "text"
      },
      "source": [
        "<a href=\"https://colab.research.google.com/github/T-Schwab/QM2/blob/main/GDAT_Data.ipynb\" target=\"_parent\"><img src=\"https://colab.research.google.com/assets/colab-badge.svg\" alt=\"Open In Colab\"/></a>"
      ]
    },
    {
      "cell_type": "code",
      "execution_count": 1,
      "metadata": {
        "id": "sm4uw3ao6Ci9"
      },
      "outputs": [],
      "source": [
        "import geopandas as gpd"
      ]
    },
    {
      "cell_type": "code",
      "source": [
        "# Read the shapefile\n",
        "gdf = gpd.read_file(\"GDAT_v1_catchments.shp\")\n",
        "\n",
        "# Print the first few rows of the GeoDataFrame\n",
        "print(gdf.head())"
      ],
      "metadata": {
        "colab": {
          "base_uri": "https://localhost:8080/"
        },
        "id": "tmP17GCi6MBz",
        "outputId": "60143fca-d578-4bbc-e336-57763c58b652"
      },
      "execution_count": 2,
      "outputs": [
        {
          "output_type": "stream",
          "name": "stdout",
          "text": [
            "   Feature_ID     Dam_Name Alt_Name Reservoir Alt_Reserv         River  \\\n",
            "0           1  Beni Bahdel     None      None       None         Tafna   \n",
            "1           2  Bou Hanifia     None      None       None     El Hammam   \n",
            "2           3     Bakhadda     None      None       None          Mina   \n",
            "3           4    Boughzoul     None      None       None  Nahar Ouasel   \n",
            "4           5     Ain Zada     None      None       None    Bou Sellam   \n",
            "\n",
            "  Alt_River           Main_basin            Sub_basin Continent  ...  \\\n",
            "0      None  Mediterranean Coast  Algerian west coast    Africa  ...   \n",
            "1      None  Mediterranean Coast  Algerian west coast    Africa  ...   \n",
            "2      None  Mediterranean Coast               Chelif    Africa  ...   \n",
            "3      None  Mediterranean Coast               Chelif    Africa  ...   \n",
            "4      None           Bou Sellam  Algerian east coast    Africa  ...   \n",
            "\n",
            "  Alt_Capac           Source Comment Editor  Main_P_Map intp_dist  \\\n",
            "0      None  AQUASTAT, GRAND    None    Sid  Irrigation  0.000417   \n",
            "1      None  AQUASTAT, GRAND    None    Sid  Irrigation  0.006250   \n",
            "2      None  AQUASTAT, GRAND    None    Sid  Irrigation  0.000982   \n",
            "3      None  AQUASTAT, GRAND    None    Sid  Irrigation  0.001250   \n",
            "4      None  AQUASTAT, GRAND    None    Sid  Irrigation  0.002083   \n",
            "\n",
            "                                        Intp_Coord  \\\n",
            "0  POINT (-1.5025000000000546 34.7104166666655871)   \n",
            "1  POINT (-0.0763888889999862 35.2854166666655473)   \n",
            "2   POINT (1.0370833311659649 35.3462500021659451)   \n",
            "3   POINT (2.7770833333330529 35.7483333300000012)   \n",
            "4   POINT (5.0687499999997385 36.2972222200000019)   \n",
            "\n",
            "                                        GDAT_Coord  \\\n",
            "0  POINT (-1.5024999999999999 34.7108333299999998)   \n",
            "1  POINT (-0.0763888890000000 35.2916666699999979)   \n",
            "2   POINT (1.0363888889999999 35.3455555600000011)   \n",
            "3   POINT (2.7758333330000000 35.7483333300000012)   \n",
            "4   POINT (5.0666666669999998 36.2972222200000019)   \n",
            "\n",
            "                                        Correct_Co  \\\n",
            "0  POINT (-1.5025000000000546 34.7104166666655871)   \n",
            "1  POINT (-0.0763888889999862 35.2854166666655473)   \n",
            "2   POINT (1.0370833311659649 35.3462500021659451)   \n",
            "3   POINT (2.7770833333330529 35.7483333300000012)   \n",
            "4   POINT (5.0687499999997385 36.2972222200000019)   \n",
            "\n",
            "                                            geometry  \n",
            "0  POLYGON ((-1.50894 34.73707, -1.47403 34.73707...  \n",
            "1  POLYGON ((-0.18249 35.33048, -0.13013 35.33048...  \n",
            "2  POLYGON ((1.02179 35.34793, 1.03924 35.34793, ...  \n",
            "3  POLYGON ((2.71476 35.76681, 2.74966 35.76681, ...  \n",
            "4  POLYGON ((5.0535 36.30786, 5.07095 36.30786, 5...  \n",
            "\n",
            "[5 rows x 65 columns]\n"
          ]
        }
      ]
    },
    {
      "cell_type": "code",
      "source": [
        "gdf.plot()"
      ],
      "metadata": {
        "colab": {
          "base_uri": "https://localhost:8080/",
          "height": 256
        },
        "id": "Ivvad5h-6PXE",
        "outputId": "bb7a4d3a-ab35-4342-b114-d7fcc28ae8ed"
      },
      "execution_count": 3,
      "outputs": [
        {
          "output_type": "execute_result",
          "data": {
            "text/plain": [
              "<Axes: >"
            ]
          },
          "metadata": {},
          "execution_count": 3
        },
        {
          "output_type": "display_data",
          "data": {
            "text/plain": [
              "<Figure size 640x480 with 1 Axes>"
            ],
            "image/png": "[encoded data removed]"
          },
          "metadata": {}
        }
      ]
    },
    {
      "cell_type": "code",
      "source": [
        "import pandas as pd"
      ],
      "metadata": {
        "id": "AHpj6Q1T60cc"
      },
      "execution_count": 4,
      "outputs": []
    },
    {
      "cell_type": "code",
      "source": [
        "df = pd.DataFrame(gdf)\n",
        "\n",
        "# Filter for only Africa\n",
        "df_africa = df[df['Continent'] == 'Africa']\n",
        "\n",
        "# Verify the filtered data\n",
        "print(df_africa)\n"
      ],
      "metadata": {
        "colab": {
          "base_uri": "https://localhost:8080/"
        },
        "id": "-jatIora64lm",
        "outputId": "b8fb1aec-d738-4091-c458-296c044ab0a2"
      },
      "execution_count": 7,
      "outputs": [
        {
          "output_type": "stream",
          "name": "stdout",
          "text": [
            "      Feature_ID                         Dam_Name Alt_Name Reservoir  \\\n",
            "0              1                      Beni Bahdel     None      None   \n",
            "1              2                      Bou Hanifia     None      None   \n",
            "2              3                         Bakhadda     None      None   \n",
            "3              4                        Boughzoul     None      None   \n",
            "4              5                         Ain Zada     None      None   \n",
            "...          ...                              ...      ...       ...   \n",
            "5773        6239  Henry Hallam (or Prince Edward)     None      None   \n",
            "5774        6240                           Rufaro     None      None   \n",
            "5775        6241                           Kudzwe     None      None   \n",
            "5776        6242                         Blockley     None      None   \n",
            "5777        6243                         Bumururu     None      None   \n",
            "\n",
            "     Alt_Reserv         River Alt_River           Main_basin  \\\n",
            "0          None         Tafna      None  Mediterranean Coast   \n",
            "1          None     El Hammam      None  Mediterranean Coast   \n",
            "2          None          Mina      None  Mediterranean Coast   \n",
            "3          None  Nahar Ouasel      None  Mediterranean Coast   \n",
            "4          None    Bou Sellam      None           Bou Sellam   \n",
            "...         ...           ...       ...                  ...   \n",
            "5773       None       Manyame      None        Zambezi Basin   \n",
            "5774       None      Nyambuya      None        Zambezi Basin   \n",
            "5775       None     Tr=Kudzwe      None        Zambezi Basin   \n",
            "5776       None         Mwami      None        Zambezi Basin   \n",
            "5777       None     Musengezi      None        Zambezi Basin   \n",
            "\n",
            "                Sub_basin Continent  ... Alt_Capac           Source Comment  \\\n",
            "0     Algerian west coast    Africa  ...      None  AQUASTAT, GRAND    None   \n",
            "1     Algerian west coast    Africa  ...      None  AQUASTAT, GRAND    None   \n",
            "2                  Chelif    Africa  ...      None  AQUASTAT, GRAND    None   \n",
            "3                  Chelif    Africa  ...      None  AQUASTAT, GRAND    None   \n",
            "4     Algerian east coast    Africa  ...      None  AQUASTAT, GRAND    None   \n",
            "...                   ...       ...  ...       ...              ...     ...   \n",
            "5773              Mapfure    Africa  ...      None  AQUASTAT, GRAND    None   \n",
            "5774               Mazowe    Africa  ...      None  AQUASTAT, GRAND    None   \n",
            "5775              Zambezi    Africa  ...      None  AQUASTAT, GRAND    None   \n",
            "5776                Angwa    Africa  ...      None  AQUASTAT, GRAND    None   \n",
            "5777              Zambezi    Africa  ...      None  AQUASTAT, GRAND    None   \n",
            "\n",
            "     Editor    Main_P_Map intp_dist  \\\n",
            "0       Sid    Irrigation  0.000417   \n",
            "1       Sid    Irrigation  0.006250   \n",
            "2       Sid    Irrigation  0.000982   \n",
            "3       Sid    Irrigation  0.001250   \n",
            "4       Sid    Irrigation  0.002083   \n",
            "...     ...           ...       ...   \n",
            "5773    Sid  Water Supply  0.015372   \n",
            "5774    Sid  Water Supply  0.010803   \n",
            "5775    Sid  Water Supply  0.000972   \n",
            "5776    Sid  Water Supply  0.003928   \n",
            "5777    Sid  Water Supply  0.009054   \n",
            "\n",
            "                                            Intp_Coord  \\\n",
            "0      POINT (-1.5025000000000546 34.7104166666655871)   \n",
            "1      POINT (-0.0763888889999862 35.2854166666655473)   \n",
            "2       POINT (1.0370833311659649 35.3462500021659451)   \n",
            "3       POINT (2.7770833333330529 35.7483333300000012)   \n",
            "4       POINT (5.0687499999997385 36.2972222200000019)   \n",
            "...                                                ...   \n",
            "5773  POINT (30.0854166666659353 -17.9687500000002629)   \n",
            "5774  POINT (31.5034722233326896 -17.9756944433333636)   \n",
            "5775  POINT (29.4229166666659694 -16.8794444399990340)   \n",
            "5776  POINT (29.8472222199990966 -16.7527777800004785)   \n",
            "5777  POINT (31.0604166666659296 -16.5479166666668718)   \n",
            "\n",
            "                                            GDAT_Coord  \\\n",
            "0      POINT (-1.5024999999999999 34.7108333299999998)   \n",
            "1      POINT (-0.0763888890000000 35.2916666699999979)   \n",
            "2       POINT (1.0363888889999999 35.3455555600000011)   \n",
            "3       POINT (2.7758333330000000 35.7483333300000012)   \n",
            "4       POINT (5.0666666669999998 36.2972222200000019)   \n",
            "...                                                ...   \n",
            "5773  POINT (30.0805555600000005 -17.9833333300000007)   \n",
            "5774  POINT (31.5111111100000016 -17.9833333300000007)   \n",
            "5775  POINT (29.4219444400000008 -16.8794444400000003)   \n",
            "5776  POINT (29.8444444400000002 -16.7500000000000000)   \n",
            "5777  POINT (31.0694444400000016 -16.5472222199999983)   \n",
            "\n",
            "                                            Correct_Co  \\\n",
            "0      POINT (-1.5025000000000546 34.7104166666655871)   \n",
            "1      POINT (-0.0763888889999862 35.2854166666655473)   \n",
            "2       POINT (1.0370833311659649 35.3462500021659451)   \n",
            "3       POINT (2.7770833333330529 35.7483333300000012)   \n",
            "4       POINT (5.0687499999997385 36.2972222200000019)   \n",
            "...                                                ...   \n",
            "5773  POINT (30.0854166666659353 -17.9687500000002629)   \n",
            "5774  POINT (31.5034722233326896 -17.9756944433333636)   \n",
            "5775  POINT (29.4229166666659694 -16.8794444399990340)   \n",
            "5776  POINT (29.8472222199990966 -16.7527777800004785)   \n",
            "5777  POINT (31.0604166666659296 -16.5479166666668718)   \n",
            "\n",
            "                                               geometry  \n",
            "0     POLYGON ((-1.50894 34.73707, -1.47403 34.73707...  \n",
            "1     POLYGON ((-0.18249 35.33048, -0.13013 35.33048...  \n",
            "2     POLYGON ((1.02179 35.34793, 1.03924 35.34793, ...  \n",
            "3     POLYGON ((2.71476 35.76681, 2.74966 35.76681, ...  \n",
            "4     POLYGON ((5.0535 36.30786, 5.07095 36.30786, 5...  \n",
            "...                                                 ...  \n",
            "5773  POLYGON ((30.08152 -17.95442, 30.09897 -17.954...  \n",
            "5774  POLYGON ((31.49524 -17.97188, 31.51269 -17.971...  \n",
            "5775  POLYGON ((29.47066 -16.80251, 29.55792 -16.802...  \n",
            "5776  MULTIPOLYGON (((29.66264 -16.69779, 29.715 -16...  \n",
            "5777  POLYGON ((31.0589 -16.54071, 31.07636 -16.5407...  \n",
            "\n",
            "[5778 rows x 65 columns]\n"
          ]
        }
      ]
    },
    {
      "cell_type": "code",
      "source": [
        "import geopandas as gpd\n",
        "import pandas as pd\n",
        "from shapely import wkt\n",
        "import matplotlib.pyplot as plt\n",
        "\n",
        "\n",
        "# Step 1: Select only the 'GDAT_Coord' column\n",
        "coords_df = df_africa[['GDAT_Coord']]\n",
        "\n",
        "# Step 2: Convert the WKT strings into Shapely Point objects\n",
        "coords_df['geometry'] = coords_df['GDAT_Coord'].apply(wkt.loads)\n",
        "\n",
        "# Step 3: Create a GeoDataFrame from the coordinates\n",
        "coords_gdf = gpd.GeoDataFrame(coords_df, geometry='geometry')\n",
        "\n",
        "# Step 4: Set the coordinate reference system (CRS) to WGS84 (EPSG:4326)\n",
        "coords_gdf.set_crs('EPSG:4326', inplace=True)\n",
        "\n",
        "# Step 5: Plot the points on a map\n",
        "fig, ax = plt.subplots(figsize=(10, 8))\n",
        "\n"
      ],
      "metadata": {
        "colab": {
          "base_uri": "https://localhost:8080/",
          "height": 789
        },
        "id": "0zS36bj68_gv",
        "outputId": "ca6e71b7-d1f7-4464-8ceb-8f09b7d03bed"
      },
      "execution_count": 15,
      "outputs": [
        {
          "output_type": "stream",
          "name": "stderr",
          "text": [
            "<ipython-input-15-27d94fac19fc>:11: SettingWithCopyWarning: \n",
            "A value is trying to be set on a copy of a slice from a DataFrame.\n",
            "Try using .loc[row_indexer,col_indexer] = value instead\n",
            "\n",
            "See the caveats in the documentation: https://pandas.pydata.org/pandas-docs/stable/user_guide/indexing.html#returning-a-view-versus-a-copy\n",
            "  coords_df['geometry'] = coords_df['GDAT_Coord'].apply(wkt.loads)\n"
          ]
        },
        {
          "output_type": "display_data",
          "data": {
            "text/plain": [
              "<Figure size 1000x800 with 1 Axes>"
            ],
            "image/png": "[encoded data removed]"
          },
          "metadata": {}
        }
      ]
    },
    {
      "cell_type": "code",
      "source": [
        "# Optional: Plot the world boundaries (using geopandas built-in dataset)\n",
        "world = gpd.read_file(gpd.datasets.get_path('naturalearth_lowres'))\n",
        "world.plot(ax=ax, color='lightgray')\n",
        "\n",
        "# Plot the points (the 'geometry' column holds the geographic data)\n",
        "coords_gdf.plot(ax=ax, color='red', marker='o', label='Dam Locations')\n",
        "\n",
        "# Customize the plot\n",
        "ax.set_title(\"Dam Locations on Map\", fontsize=16)\n",
        "ax.set_xlabel(\"Longitude\")\n",
        "ax.set_ylabel(\"Latitude\")\n",
        "ax.legend()\n",
        "\n",
        "# Show the plot\n",
        "plt.show()"
      ],
      "metadata": {
        "id": "AWwFcmD-BHO-"
      },
      "execution_count": null,
      "outputs": []
    }
  ]
}