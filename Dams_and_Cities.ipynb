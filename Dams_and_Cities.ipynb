{
  "nbformat": 4,
  "nbformat_minor": 0,
  "metadata": {
    "colab": {
      "provenance": [],
      "authorship_tag": "ABX9TyNg1g2yS9D5dTxC/yxLC3+Y",
      "include_colab_link": true
    },
    "kernelspec": {
      "name": "python3",
      "display_name": "Python 3"
    },
    "language_info": {
      "name": "python"
    }
  },
  "cells": [
    {
      "cell_type": "markdown",
      "metadata": {
        "id": "view-in-github",
        "colab_type": "text"
      },
      "source": [
        "<a href=\"https://colab.research.google.com/github/T-Schwab/QM2/blob/main/Dams_and_Cities.ipynb\" target=\"_parent\"><img src=\"https://colab.research.google.com/assets/colab-badge.svg\" alt=\"Open In Colab\"/></a>"
      ]
    },
    {
      "cell_type": "code",
      "execution_count": 1,
      "metadata": {
        "id": "g0-AfncfVdLz"
      },
      "outputs": [],
      "source": [
        "import pandas as pd\n",
        "import geopandas as gpd\n",
        "import matplotlib.pyplot as plt"
      ]
    },
    {
      "cell_type": "code",
      "source": [
        "df = pd.read_csv(\"GDW_barriers_v1_0_FORME.csv\")\n",
        "\n",
        "# Print the first few rows of the DataFrame\n",
        "print(df.head())\n"
      ],
      "metadata": {
        "colab": {
          "base_uri": "https://localhost:8080/"
        },
        "id": "76p2b8b4I464",
        "outputId": "e51624e7-d6a9-4615-ff37-0e83ffe7487c"
      },
      "execution_count": 9,
      "outputs": [
        {
          "output_type": "stream",
          "name": "stdout",
          "text": [
            "   GDW_ID         RES_NAME             DAM_NAME        ALT_NAME  \\\n",
            "0       1    Lake Winnipeg               Jenpeg      Split Lake   \n",
            "1       2          Ontario             Iroquois             NaN   \n",
            "2       3           Baikal              Irkutsk             NaN   \n",
            "3       4    Lake Victoria           Owen Falls             NaN   \n",
            "4       5  Southern Indian  Missi Falls Control  Notigi Control   \n",
            "\n",
            "           DAM_TYPE LAKE_CTRL         RIVER ALT_RIVER MAIN_BASIN  \\\n",
            "0  Lake Control Dam       Yes        Nelson       NaN        NaN   \n",
            "1  Lake Control Dam       Yes  St. Lawrence       NaN        NaN   \n",
            "2  Lake Control Dam       Yes        Angara       NaN        NaN   \n",
            "3  Lake Control Dam       Yes    White Nile       NaN       Nile   \n",
            "4  Lake Control Dam       Yes     Churchill       Rat        NaN   \n",
            "\n",
            "       SUB_BASIN  ...    LAT_RIV LONG_DAM LAT_DAM ORIG_SRC POLY_SRC GRAND_ID  \\\n",
            "0            NaN  ...  53.696359      NaN     NaN    GRanD   CanVec      709   \n",
            "1            NaN  ...  44.480557      NaN     NaN    GRanD     SWBD     1485   \n",
            "2            NaN  ...  52.234393      NaN     NaN    GRanD     SWBD     5058   \n",
            "3  Victoria Nile  ...   0.430999      NaN     NaN    GRanD     SWBD     4492   \n",
            "4            NaN  ...  57.361625      NaN     NaN    GRanD    Other      702   \n",
            "\n",
            "   HYRIV_ID  INSTREAM HYLAK_ID     HYBAS_L12  \n",
            "0  70125969  Instream        4  7.120921e+09  \n",
            "1  70444883  Instream        7  7.121021e+09  \n",
            "2  30588837  Instream       11  3.120639e+09  \n",
            "3  10980811  Instream       16  1.122079e+09  \n",
            "4  70037207  Instream       37  7.120896e+09  \n",
            "\n",
            "[5 rows x 71 columns]\n"
          ]
        },
        {
          "output_type": "stream",
          "name": "stderr",
          "text": [
            "<ipython-input-9-c310356b57e8>:1: DtypeWarning: Columns (1,3,5,7,8,9,11,15,21,44,45,46,47,48,49,50,51,52,53,54,55,56,57) have mixed types. Specify dtype option on import or set low_memory=False.\n",
            "  df = pd.read_csv(\"GDW_barriers_v1_0_FORME.csv\")\n"
          ]
        }
      ]
    },
    {
      "cell_type": "code",
      "source": [
        "# Filter for only years between 2010 and 2022\n",
        "df_year = df[(df['YEAR_DAM'] >= 2010) & (df['YEAR_DAM'] <= 2022)]\n",
        "\n",
        "# Verify the filtered data\n",
        "print(df_year)\n"
      ],
      "metadata": {
        "colab": {
          "base_uri": "https://localhost:8080/"
        },
        "id": "6APcutCbJwqo",
        "outputId": "8037c999-bab7-4aa7-d4a5-e0b3dfc32b55"
      },
      "execution_count": 11,
      "outputs": [
        {
          "output_type": "stream",
          "name": "stdout",
          "text": [
            "       GDW_ID      RES_NAME DAM_NAME ALT_NAME          DAM_TYPE LAKE_CTRL  \\\n",
            "1854     1855           NaN    Mahan      NaN               Dam       NaN   \n",
            "4119     4120           NaN    Banja      NaN               Dam       NaN   \n",
            "4149     4150      Miyamako  Tsugaru      NaN               Dam       NaN   \n",
            "4523     4524  Satpara Lake  Satpara      NaN  Lake Control Dam       Yes   \n",
            "4758     4759           NaN    Yutan      NaN               Dam       NaN   \n",
            "...       ...           ...      ...      ...               ...       ...   \n",
            "41126   41127           NaN      NaN      NaN               Dam       NaN   \n",
            "41128   41129           NaN      NaN      NaN               Dam       NaN   \n",
            "41131   41132           NaN      NaN      NaN               Dam       NaN   \n",
            "41133   41134           NaN      NaN      NaN               Dam       NaN   \n",
            "41134   41135           NaN      NaN      NaN               Dam       NaN   \n",
            "\n",
            "        RIVER ALT_RIVER MAIN_BASIN SUB_BASIN  ...    LAT_RIV LONG_DAM LAT_DAM  \\\n",
            "1854    Mahan       NaN        NaN       NaN  ...  24.223666      NaN     NaN   \n",
            "4119   Devoll       NaN      Seman       NaN  ...  40.961734      NaN     NaN   \n",
            "4149    Iwaki       NaN      Iwaki       NaN  ...  40.538341      NaN     NaN   \n",
            "4523   Satpar       NaN      Indus       NaN  ...  35.243529      NaN     NaN   \n",
            "4758    Laixi       NaN    Yangtze       NaN  ...  29.552689      NaN     NaN   \n",
            "...       ...       ...        ...       ...  ...        ...      ...     ...   \n",
            "41126     NaN       NaN        NaN       NaN  ... -31.956739      NaN     NaN   \n",
            "41128     NaN       NaN        NaN       NaN  ... -31.555849      NaN     NaN   \n",
            "41131     NaN       NaN        NaN       NaN  ... -29.676872      NaN     NaN   \n",
            "41133     NaN       NaN        NaN       NaN  ... -44.022757      NaN     NaN   \n",
            "41134     NaN       NaN        NaN       NaN  ... -42.309093      NaN     NaN   \n",
            "\n",
            "      ORIG_SRC     POLY_SRC GRAND_ID  HYRIV_ID   INSTREAM HYLAK_ID  \\\n",
            "1854     GRanD      JRC-GSW     4928  41016210   Instream  1427699   \n",
            "4119     GRanD       McGill     6871  20592787   Instream   172524   \n",
            "4149     GRanD           UY     7305  40335349   Instream   172721   \n",
            "4523     GRanD      JRC-GSW     7072  40505928   Instream   174493   \n",
            "4758     GRanD  JRC-GSW-mod     7271  40704979   Instream   176313   \n",
            "...        ...          ...      ...       ...        ...      ...   \n",
            "41126  JRC-GSW      JRC-GSW        0  61483590   Instream  1434073   \n",
            "41128  JRC-GSW      JRC-GSW        0  61478975   Instream  1434075   \n",
            "41131  JRC-GSW      JRC-GSW        0  61453122   Instream        0   \n",
            "41133  JRC-GSW      JRC-GSW        0  50826919  Offstream        0   \n",
            "41134  JRC-GSW      JRC-GSW        0  50817862   Instream  1434078   \n",
            "\n",
            "          HYBAS_L12  \n",
            "1854   4.120946e+09  \n",
            "4119   2.121218e+09  \n",
            "4149   4.121304e+09  \n",
            "4523   4.120604e+09  \n",
            "4758   4.120781e+09  \n",
            "...             ...  \n",
            "41126  6.121319e+09  \n",
            "41128  6.121318e+09  \n",
            "41131  6.120846e+09  \n",
            "41133  5.120622e+09  \n",
            "41134  5.120620e+09  \n",
            "\n",
            "[1053 rows x 71 columns]\n"
          ]
        }
      ]
    },
    {
      "cell_type": "code",
      "source": [
        "# List of African countries\n",
        "african_countries = [\n",
        "    \"Algeria\", \"Angola\", \"Benin\", \"Botswana\", \"Burkina Faso\", \"Burundi\",\n",
        "    \"Cameroon\", \"Central African Republic\", \"Republic of the Congo\",\n",
        "    \"Democratic Republic of the Congo\", \"Egypt\",\n",
        "    \"Eritrea\", \"Ethiopia\", \"Gabon\", \"Ghana\", \"Guinea\", \"Kenya\", \"Lesotho\", \"Liberia\", \"Libya\", \"Madagascar\", \"Malawi\", \"Mali\",\n",
        "    \"Mauritania\", \"Morocco\", \"Mozambique\", \"Namibia\", \"Niger\", \"Nigeria\", \"Rwanda\",\n",
        "   \"Senegal\", \"Sierra Leone\", \"Somalia\", \"South Africa\",\n",
        "   \"Sudan\", \"Togo\", \"Tunisia\", \"Uganda\", \"Zambia\", \"Zimbabwe\", \"Swaziland\"\n",
        "]\n",
        "\n",
        "# Filter the DataFrame to only include African countries\n",
        "df_africa = df_year[df_year['COUNTRY'].isin(african_countries)]\n",
        "\n",
        "# Display the filtered DataFrame\n",
        "print(df_africa)\n",
        ""
      ],
      "metadata": {
        "colab": {
          "base_uri": "https://localhost:8080/"
        },
        "id": "iEAKR8kRKoCJ",
        "outputId": "81077063-d978-499c-c530-43337eb7fa65"
      },
      "execution_count": 12,
      "outputs": [
        {
          "output_type": "stream",
          "name": "stdout",
          "text": [
            "       GDW_ID RES_NAME          DAM_NAME         ALT_NAME DAM_TYPE LAKE_CTRL  \\\n",
            "6860     6861      NaN  Ouldjet Mellegue  Ouldjt Mellegue      Dam       NaN   \n",
            "6871     6872      NaN       Dikgatlhong              NaN      Dam       NaN   \n",
            "6894     6895      NaN         Samendeni              NaN      Dam       NaN   \n",
            "6895     6896      NaN              Soum              NaN      Dam       NaN   \n",
            "6903     6904      NaN          Imboulou              NaN      Dam       NaN   \n",
            "...       ...      ...               ...              ...      ...       ...   \n",
            "41032   41033      NaN               NaN              NaN      Dam       NaN   \n",
            "41033   41034      NaN               NaN              NaN      Dam       NaN   \n",
            "41034   41035      NaN               NaN              NaN      Dam       NaN   \n",
            "41049   41050      NaN               NaN              NaN      Dam       NaN   \n",
            "41054   41055      NaN               NaN              NaN      Dam       NaN   \n",
            "\n",
            "          RIVER ALT_RIVER   MAIN_BASIN SUB_BASIN  ...    LAT_RIV LONG_DAM  \\\n",
            "6860   Mellegue       NaN          NaN       NaN  ...  35.977500      NaN   \n",
            "6871     Shashe      Tati      Limpopo       NaN  ... -21.564694      NaN   \n",
            "6894    Mouhoun       NaN  Black Volta       NaN  ...  11.388263      NaN   \n",
            "6895     Wranko       NaN        Volta       NaN  ...  12.597743      NaN   \n",
            "6903     Lefini       NaN        Congo       NaN  ...  -2.935546      NaN   \n",
            "...         ...       ...          ...       ...  ...        ...      ...   \n",
            "41032       NaN       NaN          NaN       NaN  ... -29.743810      NaN   \n",
            "41033       NaN       NaN          NaN       NaN  ... -29.728842      NaN   \n",
            "41034       NaN       NaN          NaN       NaN  ... -29.651161      NaN   \n",
            "41049       NaN       NaN          NaN       NaN  ... -29.334574      NaN   \n",
            "41054       NaN       NaN          NaN       NaN  ... -33.434810      NaN   \n",
            "\n",
            "      LAT_DAM ORIG_SRC     POLY_SRC GRAND_ID  HYRIV_ID   INSTREAM HYLAK_ID  \\\n",
            "6860      NaN    GRanD       McGill     6878  10004335   Instream  1427721   \n",
            "6871      NaN    GRanD      JRC-GSW     6891  11415033   Instream  1427732   \n",
            "6894      NaN    GRanD       McGill     6917  10576911   Instream  1427755   \n",
            "6895      NaN    GRanD      JRC-GSW     6918  10536204   Instream  1427756   \n",
            "6903      NaN    GRanD  JRC-GSW-mod     6933  11078190   Instream  1427764   \n",
            "...       ...      ...          ...      ...       ...        ...      ...   \n",
            "41032     NaN  JRC-GSW      JRC-GSW        0  11502289   Instream  1434044   \n",
            "41033     NaN  JRC-GSW      JRC-GSW        0  11502107  Offstream  1434045   \n",
            "41034     NaN  JRC-GSW      JRC-GSW        0  11501708   Instream  1434046   \n",
            "41049     NaN  JRC-GSW      JRC-GSW        0  11499360   Instream  1434048   \n",
            "41054     NaN  JRC-GSW      JRC-GSW        0  11524736   Instream  1434049   \n",
            "\n",
            "          HYBAS_L12  \n",
            "6860   1.121662e+09  \n",
            "6871   1.121539e+09  \n",
            "6894   1.121935e+09  \n",
            "6895   1.121917e+09  \n",
            "6903   1.121209e+09  \n",
            "...             ...  \n",
            "41032  1.122290e+09  \n",
            "41033  1.122290e+09  \n",
            "41034  1.122290e+09  \n",
            "41049  1.122289e+09  \n",
            "41054  1.122299e+09  \n",
            "\n",
            "[74 rows x 71 columns]\n"
          ]
        }
      ]
    },
    {
      "cell_type": "code",
      "source": [
        "# Save the dataframe to a CSV file\n",
        "df_africa.to_csv(\"filtered_dams_africa.csv\", index=False)\n",
        "\n",
        "print(\"Data saved to 'filtered_dams_africa.csv'\")"
      ],
      "metadata": {
        "colab": {
          "base_uri": "https://localhost:8080/"
        },
        "id": "gTUAIhtxMKcy",
        "outputId": "3c38b7b3-abb5-4c2b-a9fb-7ff62b8c66c4"
      },
      "execution_count": 14,
      "outputs": [
        {
          "output_type": "stream",
          "name": "stdout",
          "text": [
            "Data saved to 'filtered_dams_africa.csv'\n"
          ]
        }
      ]
    }
  ]
}